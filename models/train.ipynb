{
 "cells": [
  {
   "cell_type": "code",
   "execution_count": 1,
   "metadata": {},
   "outputs": [],
   "source": [
    "import datetime\n",
    "import numpy as np\n",
    "import matplotlib.pyplot as plt\n",
    "from keras.layers import Input, Activation, Conv2D, Flatten, Dense, MaxPooling2D\n",
    "from keras.models import Model, load_model\n",
    "from keras.preprocessing.image import ImageDataGenerator\n",
    "from keras.callbacks import ModelCheckpoint, ReduceLROnPlateau\n",
    "plt.style.use('dark_background')"
   ]
  },
  {
   "cell_type": "markdown",
   "metadata": {},
   "source": [
    "# Load Data"
   ]
  },
  {
   "cell_type": "code",
   "execution_count": 2,
   "metadata": {},
   "outputs": [
    {
     "name": "stdout",
     "output_type": "stream",
     "text": [
      "(3040, 26, 34, 1) (3040, 1)\n",
      "(338, 26, 34, 1) (338, 1)\n"
     ]
    }
   ],
   "source": [
    "x_train = np.load('datasets/x_train.npy').astype(np.float32)\n",
    "y_train = np.load('datasets/y_train.npy').astype(np.float32)\n",
    "x_val = np.load('datasets/x_val.npy').astype(np.float32)\n",
    "y_val = np.load('datasets/y_val.npy').astype(np.float32)\n",
    "\n",
    "print(x_train.shape, y_train.shape)\n",
    "print(x_val.shape, y_val.shape)"
   ]
  },
  {
   "cell_type": "code",
   "execution_count": 3,
   "metadata": {},
   "outputs": [
    {
     "data": {
      "text/plain": [
       "<matplotlib.image.AxesImage at 0x17d55b640>"
      ]
     },
     "execution_count": 3,
     "metadata": {},
     "output_type": "execute_result"
    },
    {
     "data": {
      "image/png": "[encoded data removed]",
      "text/plain": [
       "<Figure size 432x288 with 2 Axes>"
      ]
     },
     "metadata": {
      "needs_background": "dark"
     },
     "output_type": "display_data"
    }
   ],
   "source": [
    "plt.subplot(2, 1, 1)\n",
    "plt.title(str(y_train[0]))\n",
    "plt.imshow(x_train[0].reshape((26, 34)), cmap='gray')\n",
    "plt.subplot(2, 1, 2)\n",
    "plt.title(str(y_val[4]))\n",
    "plt.imshow(x_val[4].reshape((26, 34)), cmap='gray')"
   ]
  },
  {
   "cell_type": "markdown",
   "metadata": {},
   "source": [
    "# Data Augmentation"
   ]
  },
  {
   "cell_type": "code",
   "execution_count": 4,
   "metadata": {},
   "outputs": [],
   "source": [
    "train_datagen = ImageDataGenerator(\n",
    "    rescale=1./255,\n",
    "    rotation_range=10,\n",
    "    width_shift_range=0.2,\n",
    "    height_shift_range=0.2,\n",
    "    shear_range=0.2\n",
    ")\n",
    "\n",
    "val_datagen = ImageDataGenerator(rescale=1./255)\n",
    "\n",
    "\n",
    "train_generator = train_datagen.flow(\n",
    "    x=x_train, y=y_train,\n",
    "    batch_size=32,\n",
    "    shuffle=True\n",
    ")\n",
    "\n",
    "val_generator = val_datagen.flow(\n",
    "    x=x_val, y=y_val,\n",
    "    batch_size=32,\n",
    "    shuffle=False\n",
    ")\n"
   ]
  },
  {
   "cell_type": "markdown",
   "metadata": {},
   "source": [
    "# Build Model"
   ]
  },
  {
   "cell_type": "code",
   "execution_count": 5,
   "metadata": {},
   "outputs": [
    {
     "name": "stdout",
     "output_type": "stream",
     "text": [
      "Metal device set to: Apple M1 Pro\n",
      "\n",
      "systemMemory: 16.00 GB\n",
      "maxCacheSize: 5.33 GB\n",
      "\n",
      "Model: \"model\"\n",
      "_________________________________________________________________\n",
      " Layer (type)                Output Shape              Param #   \n",
      "=================================================================\n",
      " input_1 (InputLayer)        [(None, 26, 34, 1)]       0         \n",
      "                                                                 \n",
      " conv2d (Conv2D)             (None, 26, 34, 32)        320       \n",
      "                                                                 \n",
      " max_pooling2d (MaxPooling2D  (None, 13, 17, 32)       0         \n",
      " )                                                               \n",
      "                                                                 \n",
      " conv2d_1 (Conv2D)           (None, 13, 17, 64)        18496     \n",
      "                                                                 \n",
      " max_pooling2d_1 (MaxPooling  (None, 6, 8, 64)         0         \n",
      " 2D)                                                             \n",
      "                                                                 \n",
      " conv2d_2 (Conv2D)           (None, 6, 8, 128)         73856     \n",
      "                                                                 \n",
      " max_pooling2d_2 (MaxPooling  (None, 3, 4, 128)        0         \n",
      " 2D)                                                             \n",
      "                                                                 \n",
      " flatten (Flatten)           (None, 1536)              0         \n",
      "                                                                 \n",
      " dense (Dense)               (None, 512)               786944    \n",
      "                                                                 \n",
      " activation (Activation)     (None, 512)               0         \n",
      "                                                                 \n",
      " dense_1 (Dense)             (None, 1)                 513       \n",
      "                                                                 \n",
      " activation_1 (Activation)   (None, 1)                 0         \n",
      "                                                                 \n",
      "=================================================================\n",
      "Total params: 880,129\n",
      "Trainable params: 880,129\n",
      "Non-trainable params: 0\n",
      "_________________________________________________________________\n"
     ]
    },
    {
     "name": "stderr",
     "output_type": "stream",
     "text": [
      "2022-05-18 21:08:33.032734: I tensorflow/core/common_runtime/pluggable_device/pluggable_device_factory.cc:305] Could not identify NUMA node of platform GPU ID 0, defaulting to 0. Your kernel may not have been built with NUMA support.\n",
      "2022-05-18 21:08:33.032922: I tensorflow/core/common_runtime/pluggable_device/pluggable_device_factory.cc:271] Created TensorFlow device (/job:localhost/replica:0/task:0/device:GPU:0 with 0 MB memory) -> physical PluggableDevice (device: 0, name: METAL, pci bus id: <undefined>)\n"
     ]
    }
   ],
   "source": [
    "inputs = Input(shape=(26,34,1))\n",
    "\n",
    "net = Conv2D(32, kernel_size=3, strides=1, padding='same', activation='relu')(inputs)\n",
    "net = MaxPooling2D(pool_size=2)(net)\n",
    "\n",
    "net = Conv2D(64, kernel_size=3, strides=1, padding='same', activation='relu')(net)\n",
    "net = MaxPooling2D(pool_size=2)(net)\n",
    "\n",
    "net = Conv2D(128, kernel_size=3, strides=1, padding='same', activation='relu')(net)\n",
    "net = MaxPooling2D(pool_size=2)(net)\n",
    "\n",
    "net = Flatten()(net)\n",
    "\n",
    "net = Dense(512)(net)\n",
    "\n",
    "net = Activation('relu')(net)\n",
    "net = Dense(1)(net)\n",
    "\n",
    "outputs = Activation('sigmoid')(net)\n",
    "\n",
    "model = Model(inputs = inputs, outputs=outputs)\n",
    "\n",
    "model.compile(optimizer='adam', loss='binary_crossentropy', metrics=['acc'])\n",
    "model.summary()"
   ]
  },
  {
   "cell_type": "code",
   "execution_count": 6,
   "metadata": {},
   "outputs": [
    {
     "name": "stdout",
     "output_type": "stream",
     "text": [
      "Epoch 1/50\n"
     ]
    },
    {
     "name": "stderr",
     "output_type": "stream",
     "text": [
      "/var/folders/1t/88mj6ftx7kzcj3p0wtqxbcl40000gn/T/ipykernel_3879/2104269877.py:1: UserWarning: `Model.fit_generator` is deprecated and will be removed in a future version. Please use `Model.fit`, which supports generators.\n",
      "  model.fit_generator(\n",
      "2022-05-18 21:10:11.624416: W tensorflow/core/platform/profile_utils/cpu_utils.cc:128] Failed to get CPU frequency: 0 Hz\n",
      "2022-05-18 21:10:11.871476: I tensorflow/core/grappler/optimizers/custom_graph_optimizer_registry.cc:113] Plugin optimizer for device_type GPU is enabled.\n"
     ]
    },
    {
     "name": "stdout",
     "output_type": "stream",
     "text": [
      "91/95 [===========================>..] - ETA: 0s - loss: 0.4753 - acc: 0.7606\n",
      "Epoch 1: val_acc improved from -inf to 0.93787, saving model to models.h5\n",
      "95/95 [==============================] - 2s 12ms/step - loss: 0.4673 - acc: 0.7651 - val_loss: 0.1774 - val_acc: 0.9379 - lr: 0.0010\n",
      "Epoch 2/50\n",
      " 1/95 [..............................] - ETA: 1s - loss: 0.2042 - acc: 0.9062"
     ]
    },
    {
     "name": "stderr",
     "output_type": "stream",
     "text": [
      "2022-05-18 21:10:13.154759: I tensorflow/core/grappler/optimizers/custom_graph_optimizer_registry.cc:113] Plugin optimizer for device_type GPU is enabled.\n"
     ]
    },
    {
     "name": "stdout",
     "output_type": "stream",
     "text": [
      "91/95 [===========================>..] - ETA: 0s - loss: 0.1864 - acc: 0.9299\n",
      "Epoch 2: val_acc improved from 0.93787 to 0.98521, saving model to models.h5\n",
      "95/95 [==============================] - 1s 10ms/step - loss: 0.1813 - acc: 0.9322 - val_loss: 0.0732 - val_acc: 0.9852 - lr: 0.0010\n",
      "Epoch 3/50\n",
      "92/95 [============================>.] - ETA: 0s - loss: 0.0990 - acc: 0.9654\n",
      "Epoch 3: val_acc did not improve from 0.98521\n",
      "95/95 [==============================] - 1s 10ms/step - loss: 0.0985 - acc: 0.9655 - val_loss: 0.0749 - val_acc: 0.9793 - lr: 0.0010\n",
      "Epoch 4/50\n",
      "92/95 [============================>.] - ETA: 0s - loss: 0.0870 - acc: 0.9718\n",
      "Epoch 4: val_acc improved from 0.98521 to 0.98817, saving model to models.h5\n",
      "95/95 [==============================] - 1s 10ms/step - loss: 0.0870 - acc: 0.9714 - val_loss: 0.0774 - val_acc: 0.9882 - lr: 0.0010\n",
      "Epoch 5/50\n",
      "90/95 [===========================>..] - ETA: 0s - loss: 0.0632 - acc: 0.9799\n",
      "Epoch 5: val_acc did not improve from 0.98817\n",
      "95/95 [==============================] - 1s 10ms/step - loss: 0.0632 - acc: 0.9796 - val_loss: 0.0905 - val_acc: 0.9734 - lr: 0.0010\n",
      "Epoch 6/50\n",
      "92/95 [============================>.] - ETA: 0s - loss: 0.0690 - acc: 0.9749\n",
      "Epoch 6: val_acc did not improve from 0.98817\n",
      "95/95 [==============================] - 1s 10ms/step - loss: 0.0677 - acc: 0.9757 - val_loss: 0.1109 - val_acc: 0.9675 - lr: 0.0010\n",
      "Epoch 7/50\n",
      "90/95 [===========================>..] - ETA: 0s - loss: 0.0584 - acc: 0.9806\n",
      "Epoch 7: val_acc did not improve from 0.98817\n",
      "95/95 [==============================] - 1s 10ms/step - loss: 0.0581 - acc: 0.9806 - val_loss: 0.0683 - val_acc: 0.9882 - lr: 0.0010\n",
      "Epoch 8/50\n",
      "93/95 [============================>.] - ETA: 0s - loss: 0.0533 - acc: 0.9792\n",
      "Epoch 8: val_acc did not improve from 0.98817\n",
      "95/95 [==============================] - 1s 10ms/step - loss: 0.0534 - acc: 0.9789 - val_loss: 0.0825 - val_acc: 0.9852 - lr: 0.0010\n",
      "Epoch 9/50\n",
      "90/95 [===========================>..] - ETA: 0s - loss: 0.0380 - acc: 0.9868\n",
      "Epoch 9: val_acc improved from 0.98817 to 0.99112, saving model to models.h5\n",
      "95/95 [==============================] - 1s 11ms/step - loss: 0.0422 - acc: 0.9855 - val_loss: 0.0700 - val_acc: 0.9911 - lr: 0.0010\n",
      "Epoch 10/50\n",
      "89/95 [===========================>..] - ETA: 0s - loss: 0.0390 - acc: 0.9867\n",
      "Epoch 10: val_acc improved from 0.99112 to 0.99408, saving model to models.h5\n",
      "95/95 [==============================] - 1s 9ms/step - loss: 0.0394 - acc: 0.9868 - val_loss: 0.0727 - val_acc: 0.9941 - lr: 0.0010\n",
      "Epoch 11/50\n",
      "91/95 [===========================>..] - ETA: 0s - loss: 0.0362 - acc: 0.9870\n",
      "Epoch 11: val_acc did not improve from 0.99408\n",
      "95/95 [==============================] - 1s 10ms/step - loss: 0.0366 - acc: 0.9865 - val_loss: 0.0913 - val_acc: 0.9882 - lr: 0.0010\n",
      "Epoch 12/50\n",
      "91/95 [===========================>..] - ETA: 0s - loss: 0.0293 - acc: 0.9897\n",
      "Epoch 12: val_acc did not improve from 0.99408\n",
      "95/95 [==============================] - 1s 10ms/step - loss: 0.0295 - acc: 0.9898 - val_loss: 0.1000 - val_acc: 0.9911 - lr: 0.0010\n",
      "Epoch 13/50\n",
      "90/95 [===========================>..] - ETA: 0s - loss: 0.0426 - acc: 0.9861\n",
      "Epoch 13: val_acc did not improve from 0.99408\n",
      "95/95 [==============================] - 1s 10ms/step - loss: 0.0422 - acc: 0.9865 - val_loss: 0.0831 - val_acc: 0.9882 - lr: 0.0010\n",
      "Epoch 14/50\n",
      "92/95 [============================>.] - ETA: 0s - loss: 0.0386 - acc: 0.9878\n",
      "Epoch 14: val_acc did not improve from 0.99408\n",
      "95/95 [==============================] - 1s 9ms/step - loss: 0.0378 - acc: 0.9882 - val_loss: 0.0905 - val_acc: 0.9941 - lr: 0.0010\n",
      "Epoch 15/50\n",
      "92/95 [============================>.] - ETA: 0s - loss: 0.0288 - acc: 0.9918\n",
      "Epoch 15: val_acc did not improve from 0.99408\n",
      "95/95 [==============================] - 1s 9ms/step - loss: 0.0292 - acc: 0.9914 - val_loss: 0.1026 - val_acc: 0.9793 - lr: 0.0010\n",
      "Epoch 16/50\n",
      "93/95 [============================>.] - ETA: 0s - loss: 0.0283 - acc: 0.9909\n",
      "Epoch 16: val_acc did not improve from 0.99408\n",
      "95/95 [==============================] - 1s 10ms/step - loss: 0.0278 - acc: 0.9911 - val_loss: 0.0836 - val_acc: 0.9911 - lr: 0.0010\n",
      "Epoch 17/50\n",
      "90/95 [===========================>..] - ETA: 0s - loss: 0.0237 - acc: 0.9927\n",
      "Epoch 17: val_acc did not improve from 0.99408\n",
      "95/95 [==============================] - 1s 10ms/step - loss: 0.0225 - acc: 0.9931 - val_loss: 0.0875 - val_acc: 0.9852 - lr: 0.0010\n",
      "Epoch 18/50\n",
      "90/95 [===========================>..] - ETA: 0s - loss: 0.0261 - acc: 0.9899\n",
      "Epoch 18: val_acc did not improve from 0.99408\n",
      "95/95 [==============================] - 1s 10ms/step - loss: 0.0285 - acc: 0.9901 - val_loss: 0.0900 - val_acc: 0.9793 - lr: 0.0010\n",
      "Epoch 19/50\n",
      "92/95 [============================>.] - ETA: 0s - loss: 0.0285 - acc: 0.9898\n",
      "Epoch 19: val_acc did not improve from 0.99408\n",
      "95/95 [==============================] - 1s 10ms/step - loss: 0.0277 - acc: 0.9901 - val_loss: 0.0877 - val_acc: 0.9882 - lr: 0.0010\n",
      "Epoch 20/50\n",
      "92/95 [============================>.] - ETA: 0s - loss: 0.0255 - acc: 0.9908\n",
      "Epoch 20: val_acc did not improve from 0.99408\n",
      "\n",
      "Epoch 20: ReduceLROnPlateau reducing learning rate to 0.00020000000949949026.\n",
      "95/95 [==============================] - 1s 10ms/step - loss: 0.0252 - acc: 0.9908 - val_loss: 0.0932 - val_acc: 0.9911 - lr: 0.0010\n",
      "Epoch 21/50\n",
      "91/95 [===========================>..] - ETA: 0s - loss: 0.0221 - acc: 0.9948\n",
      "Epoch 21: val_acc did not improve from 0.99408\n",
      "95/95 [==============================] - 1s 10ms/step - loss: 0.0215 - acc: 0.9951 - val_loss: 0.0926 - val_acc: 0.9911 - lr: 2.0000e-04\n",
      "Epoch 22/50\n",
      "95/95 [==============================] - ETA: 0s - loss: 0.0107 - acc: 0.9961\n",
      "Epoch 22: val_acc did not improve from 0.99408\n",
      "95/95 [==============================] - 1s 10ms/step - loss: 0.0107 - acc: 0.9961 - val_loss: 0.1022 - val_acc: 0.9911 - lr: 2.0000e-04\n",
      "Epoch 23/50\n",
      "94/95 [============================>.] - ETA: 0s - loss: 0.0184 - acc: 0.9943\n",
      "Epoch 23: val_acc did not improve from 0.99408\n",
      "95/95 [==============================] - 1s 11ms/step - loss: 0.0183 - acc: 0.9944 - val_loss: 0.0909 - val_acc: 0.9882 - lr: 2.0000e-04\n",
      "Epoch 24/50\n",
      "94/95 [============================>.] - ETA: 0s - loss: 0.0129 - acc: 0.9967\n",
      "Epoch 24: val_acc did not improve from 0.99408\n",
      "95/95 [==============================] - 1s 11ms/step - loss: 0.0128 - acc: 0.9967 - val_loss: 0.0862 - val_acc: 0.9911 - lr: 2.0000e-04\n",
      "Epoch 25/50\n",
      "94/95 [============================>.] - ETA: 0s - loss: 0.0094 - acc: 0.9977\n",
      "Epoch 25: val_acc did not improve from 0.99408\n",
      "95/95 [==============================] - 1s 10ms/step - loss: 0.0094 - acc: 0.9977 - val_loss: 0.0901 - val_acc: 0.9911 - lr: 2.0000e-04\n",
      "Epoch 26/50\n",
      "91/95 [===========================>..] - ETA: 0s - loss: 0.0079 - acc: 0.9976\n",
      "Epoch 26: val_acc did not improve from 0.99408\n",
      "95/95 [==============================] - 1s 10ms/step - loss: 0.0079 - acc: 0.9977 - val_loss: 0.0866 - val_acc: 0.9911 - lr: 2.0000e-04\n",
      "Epoch 27/50\n",
      "93/95 [============================>.] - ETA: 0s - loss: 0.0129 - acc: 0.9950\n",
      "Epoch 27: val_acc did not improve from 0.99408\n",
      "95/95 [==============================] - 1s 9ms/step - loss: 0.0126 - acc: 0.9951 - val_loss: 0.0902 - val_acc: 0.9911 - lr: 2.0000e-04\n",
      "Epoch 28/50\n",
      "90/95 [===========================>..] - ETA: 0s - loss: 0.0099 - acc: 0.9962\n",
      "Epoch 28: val_acc did not improve from 0.99408\n",
      "95/95 [==============================] - 1s 9ms/step - loss: 0.0094 - acc: 0.9964 - val_loss: 0.0841 - val_acc: 0.9911 - lr: 2.0000e-04\n",
      "Epoch 29/50\n",
      "93/95 [============================>.] - ETA: 0s - loss: 0.0098 - acc: 0.9966\n",
      "Epoch 29: val_acc did not improve from 0.99408\n",
      "95/95 [==============================] - 1s 9ms/step - loss: 0.0099 - acc: 0.9964 - val_loss: 0.0946 - val_acc: 0.9911 - lr: 2.0000e-04\n",
      "Epoch 30/50\n",
      "94/95 [============================>.] - ETA: 0s - loss: 0.0087 - acc: 0.9973\n",
      "Epoch 30: val_acc did not improve from 0.99408\n",
      "\n",
      "Epoch 30: ReduceLROnPlateau reducing learning rate to 4.0000001899898055e-05.\n",
      "95/95 [==============================] - 1s 9ms/step - loss: 0.0094 - acc: 0.9970 - val_loss: 0.0911 - val_acc: 0.9911 - lr: 2.0000e-04\n",
      "Epoch 31/50\n",
      "90/95 [===========================>..] - ETA: 0s - loss: 0.0074 - acc: 0.9979\n",
      "Epoch 31: val_acc did not improve from 0.99408\n",
      "95/95 [==============================] - 1s 9ms/step - loss: 0.0072 - acc: 0.9980 - val_loss: 0.0886 - val_acc: 0.9911 - lr: 4.0000e-05\n",
      "Epoch 32/50\n",
      "92/95 [============================>.] - ETA: 0s - loss: 0.0122 - acc: 0.9973\n",
      "Epoch 32: val_acc did not improve from 0.99408\n",
      "95/95 [==============================] - 1s 10ms/step - loss: 0.0121 - acc: 0.9970 - val_loss: 0.0927 - val_acc: 0.9911 - lr: 4.0000e-05\n",
      "Epoch 33/50\n",
      "92/95 [============================>.] - ETA: 0s - loss: 0.0066 - acc: 0.9983\n",
      "Epoch 33: val_acc did not improve from 0.99408\n",
      "95/95 [==============================] - 1s 10ms/step - loss: 0.0065 - acc: 0.9984 - val_loss: 0.0895 - val_acc: 0.9911 - lr: 4.0000e-05\n",
      "Epoch 34/50\n",
      "91/95 [===========================>..] - ETA: 0s - loss: 0.0124 - acc: 0.9973\n",
      "Epoch 34: val_acc did not improve from 0.99408\n",
      "95/95 [==============================] - 1s 10ms/step - loss: 0.0120 - acc: 0.9974 - val_loss: 0.0823 - val_acc: 0.9911 - lr: 4.0000e-05\n",
      "Epoch 35/50\n",
      "95/95 [==============================] - ETA: 0s - loss: 0.0081 - acc: 0.9987\n",
      "Epoch 35: val_acc did not improve from 0.99408\n",
      "95/95 [==============================] - 1s 9ms/step - loss: 0.0081 - acc: 0.9987 - val_loss: 0.0851 - val_acc: 0.9911 - lr: 4.0000e-05\n",
      "Epoch 36/50\n",
      "95/95 [==============================] - ETA: 0s - loss: 0.0053 - acc: 0.9984\n",
      "Epoch 36: val_acc did not improve from 0.99408\n",
      "95/95 [==============================] - 1s 9ms/step - loss: 0.0053 - acc: 0.9984 - val_loss: 0.0887 - val_acc: 0.9911 - lr: 4.0000e-05\n",
      "Epoch 37/50\n",
      "90/95 [===========================>..] - ETA: 0s - loss: 0.0112 - acc: 0.9972\n",
      "Epoch 37: val_acc did not improve from 0.99408\n",
      "95/95 [==============================] - 1s 10ms/step - loss: 0.0106 - acc: 0.9974 - val_loss: 0.0852 - val_acc: 0.9911 - lr: 4.0000e-05\n",
      "Epoch 38/50\n",
      "92/95 [============================>.] - ETA: 0s - loss: 0.0087 - acc: 0.9983\n",
      "Epoch 38: val_acc did not improve from 0.99408\n",
      "95/95 [==============================] - 1s 9ms/step - loss: 0.0085 - acc: 0.9984 - val_loss: 0.0827 - val_acc: 0.9911 - lr: 4.0000e-05\n",
      "Epoch 39/50\n",
      "92/95 [============================>.] - ETA: 0s - loss: 0.0071 - acc: 0.9969\n",
      "Epoch 39: val_acc did not improve from 0.99408\n",
      "95/95 [==============================] - 1s 9ms/step - loss: 0.0069 - acc: 0.9970 - val_loss: 0.0845 - val_acc: 0.9911 - lr: 4.0000e-05\n",
      "Epoch 40/50\n",
      "91/95 [===========================>..] - ETA: 0s - loss: 0.0075 - acc: 0.9973\n",
      "Epoch 40: val_acc did not improve from 0.99408\n",
      "\n",
      "Epoch 40: ReduceLROnPlateau reducing learning rate to 1e-05.\n",
      "95/95 [==============================] - 1s 10ms/step - loss: 0.0075 - acc: 0.9974 - val_loss: 0.0798 - val_acc: 0.9911 - lr: 4.0000e-05\n",
      "Epoch 41/50\n",
      "91/95 [===========================>..] - ETA: 0s - loss: 0.0103 - acc: 0.9973\n",
      "Epoch 41: val_acc did not improve from 0.99408\n",
      "95/95 [==============================] - 1s 10ms/step - loss: 0.0103 - acc: 0.9974 - val_loss: 0.0816 - val_acc: 0.9911 - lr: 1.0000e-05\n",
      "Epoch 42/50\n",
      "91/95 [===========================>..] - ETA: 0s - loss: 0.0073 - acc: 0.9979\n",
      "Epoch 42: val_acc did not improve from 0.99408\n",
      "95/95 [==============================] - 1s 9ms/step - loss: 0.0086 - acc: 0.9977 - val_loss: 0.0811 - val_acc: 0.9911 - lr: 1.0000e-05\n",
      "Epoch 43/50\n",
      "93/95 [============================>.] - ETA: 0s - loss: 0.0089 - acc: 0.9980\n",
      "Epoch 43: val_acc did not improve from 0.99408\n",
      "95/95 [==============================] - 1s 9ms/step - loss: 0.0089 - acc: 0.9980 - val_loss: 0.0811 - val_acc: 0.9911 - lr: 1.0000e-05\n",
      "Epoch 44/50\n",
      "93/95 [============================>.] - ETA: 0s - loss: 0.0051 - acc: 0.9980\n",
      "Epoch 44: val_acc did not improve from 0.99408\n",
      "95/95 [==============================] - 1s 9ms/step - loss: 0.0093 - acc: 0.9977 - val_loss: 0.0824 - val_acc: 0.9911 - lr: 1.0000e-05\n",
      "Epoch 45/50\n",
      "91/95 [===========================>..] - ETA: 0s - loss: 0.0080 - acc: 0.9969\n",
      "Epoch 45: val_acc did not improve from 0.99408\n",
      "95/95 [==============================] - 1s 10ms/step - loss: 0.0082 - acc: 0.9967 - val_loss: 0.0808 - val_acc: 0.9911 - lr: 1.0000e-05\n",
      "Epoch 46/50\n",
      "91/95 [===========================>..] - ETA: 0s - loss: 0.0090 - acc: 0.9990\n",
      "Epoch 46: val_acc did not improve from 0.99408\n",
      "95/95 [==============================] - 1s 10ms/step - loss: 0.0090 - acc: 0.9987 - val_loss: 0.0806 - val_acc: 0.9911 - lr: 1.0000e-05\n",
      "Epoch 47/50\n",
      "95/95 [==============================] - ETA: 0s - loss: 0.0074 - acc: 0.9993\n",
      "Epoch 47: val_acc did not improve from 0.99408\n",
      "95/95 [==============================] - 1s 9ms/step - loss: 0.0074 - acc: 0.9993 - val_loss: 0.0808 - val_acc: 0.9911 - lr: 1.0000e-05\n",
      "Epoch 48/50\n",
      "94/95 [============================>.] - ETA: 0s - loss: 0.0065 - acc: 0.9977\n",
      "Epoch 48: val_acc did not improve from 0.99408\n",
      "95/95 [==============================] - 1s 9ms/step - loss: 0.0065 - acc: 0.9977 - val_loss: 0.0814 - val_acc: 0.9911 - lr: 1.0000e-05\n",
      "Epoch 49/50\n",
      "94/95 [============================>.] - ETA: 0s - loss: 0.0074 - acc: 0.9977\n",
      "Epoch 49: val_acc did not improve from 0.99408\n",
      "95/95 [==============================] - 1s 9ms/step - loss: 0.0074 - acc: 0.9977 - val_loss: 0.0806 - val_acc: 0.9911 - lr: 1.0000e-05\n",
      "Epoch 50/50\n",
      "91/95 [===========================>..] - ETA: 0s - loss: 0.0058 - acc: 0.9983\n",
      "Epoch 50: val_acc did not improve from 0.99408\n",
      "95/95 [==============================] - 1s 9ms/step - loss: 0.0057 - acc: 0.9984 - val_loss: 0.0810 - val_acc: 0.9911 - lr: 1.0000e-05\n"
     ]
    },
    {
     "data": {
      "text/plain": [
       "<keras.callbacks.History at 0x17d646e50>"
      ]
     },
     "execution_count": 6,
     "metadata": {},
     "output_type": "execute_result"
    }
   ],
   "source": [
    "model.fit_generator(\n",
    "    train_generator, epochs=50, validation_data=val_generator,\n",
    "    callbacks=[\n",
    "        ModelCheckpoint('models.h5' , monitor='val_acc', save_best_only=True, mode='max', verbose=1),\n",
    "        ReduceLROnPlateau(monitor='val_acc', factor=0.2, patience=10, verbose=1, mode='auto', min_lr=1e-05)\n",
    "    ]\n",
    ")"
   ]
  },
  {
   "cell_type": "code",
   "execution_count": 7,
   "metadata": {},
   "outputs": [
    {
     "name": "stderr",
     "output_type": "stream",
     "text": [
      "2022-05-18 21:11:45.604815: I tensorflow/core/grappler/optimizers/custom_graph_optimizer_registry.cc:113] Plugin optimizer for device_type GPU is enabled.\n",
      "/var/folders/1t/88mj6ftx7kzcj3p0wtqxbcl40000gn/T/ipykernel_3879/879855913.py:7: DeprecationWarning: `np.int` is a deprecated alias for the builtin `int`. To silence this warning, use `int` by itself. Doing this will not modify any behavior and is safe. When replacing `np.int`, you may wish to use e.g. `np.int64` or `np.int32` to specify the precision. If you wish to review your current use, check the release note link for additional information.\n",
      "Deprecated in NumPy 1.20; for more details and guidance: https://numpy.org/devdocs/release/1.20.0-notes.html#deprecations\n",
      "  y_pred_logical = (y_pred > 0.5).astype(np.int)\n"
     ]
    },
    {
     "name": "stdout",
     "output_type": "stream",
     "text": [
      "test acc: 0.9940828402366864\n"
     ]
    },
    {
     "data": {
      "text/plain": [
       "<AxesSubplot:>"
      ]
     },
     "execution_count": 7,
     "metadata": {},
     "output_type": "execute_result"
    },
    {
     "data": {
      "image/png": "[encoded data removed]",
      "text/plain": [
       "<Figure size 432x288 with 2 Axes>"
      ]
     },
     "metadata": {
      "needs_background": "dark"
     },
     "output_type": "display_data"
    }
   ],
   "source": [
    "from sklearn.metrics import accuracy_score, confusion_matrix\n",
    "import seaborn as sns\n",
    "\n",
    "model = load_model('models.h5')\n",
    "\n",
    "y_pred = model.predict(x_val/255.)\n",
    "y_pred_logical = (y_pred > 0.5).astype(np.int)\n",
    "\n",
    "print ('test acc: %s' % accuracy_score(y_val, y_pred_logical))\n",
    "cm = confusion_matrix(y_val, y_pred_logical)\n",
    "sns.heatmap(cm, annot=True)"
   ]
  },
  {
   "cell_type": "code",
   "execution_count": null,
   "metadata": {},
   "outputs": [],
   "source": []
  }
 ],
 "metadata": {
  "kernelspec": {
   "display_name": "Python 3.9.12",
   "language": "python",
   "name": "python3"
  },
  "language_info": {
   "codemirror_mode": {
    "name": "ipython",
    "version": 3
   },
   "file_extension": ".py",
   "mimetype": "text/x-python",
   "name": "python",
   "nbconvert_exporter": "python",
   "pygments_lexer": "ipython3",
   "version": "3.9.12"
  },
  "orig_nbformat": 4,
  "vscode": {
   "interpreter": {
    "hash": "33c1946b6c37dff9399910dd5ca465406883c32c90c5c784be5b0341525489e0"
   }
  }
 },
 "nbformat": 4,
 "nbformat_minor": 2
}
